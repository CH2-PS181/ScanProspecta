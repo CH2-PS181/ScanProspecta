{
  "nbformat": 4,
  "nbformat_minor": 0,
  "metadata": {
    "colab": {
      "provenance": [],
      "gpuType": "T4",
      "include_colab_link": true
    },
    "kernelspec": {
      "name": "python3",
      "display_name": "Python 3"
    },
    "language_info": {
      "name": "python"
    },
    "accelerator": "GPU"
  },
  "cells": [
    {
      "cell_type": "markdown",
      "metadata": {
        "id": "view-in-github",
        "colab_type": "text"
      },
      "source": [
        "<a href=\"https://colab.research.google.com/github/CH2-PS181/ScanProspecta/blob/main/Machine%20Learning/Resume_Classifier.ipynb\" target=\"_parent\"><img src=\"https://colab.research.google.com/assets/colab-badge.svg\" alt=\"Open In Colab\"/></a>"
      ]
    },
    {
      "cell_type": "markdown",
      "source": [
        "# **ScanProspecta**"
      ],
      "metadata": {
        "id": "PgaAV6IC7kNj"
      }
    },
    {
      "cell_type": "markdown",
      "source": [
        "### **Import Library**"
      ],
      "metadata": {
        "id": "ren84lToj3_9"
      }
    },
    {
      "cell_type": "code",
      "execution_count": 1,
      "metadata": {
        "id": "YCCv0naE7I2i",
        "colab": {
          "base_uri": "https://localhost:8080/"
        },
        "outputId": "ee1369e0-166c-47f9-f15e-9019609d5c7a"
      },
      "outputs": [
        {
          "output_type": "stream",
          "name": "stdout",
          "text": [
            "Requirement already satisfied: wget in /usr/local/lib/python3.10/dist-packages (3.2)\n",
            "Requirement already satisfied: datasets in /usr/local/lib/python3.10/dist-packages (2.15.0)\n",
            "Requirement already satisfied: numpy>=1.17 in /usr/local/lib/python3.10/dist-packages (from datasets) (1.23.5)\n",
            "Requirement already satisfied: pyarrow>=8.0.0 in /usr/local/lib/python3.10/dist-packages (from datasets) (9.0.0)\n",
            "Requirement already satisfied: pyarrow-hotfix in /usr/local/lib/python3.10/dist-packages (from datasets) (0.6)\n",
            "Requirement already satisfied: dill<0.3.8,>=0.3.0 in /usr/local/lib/python3.10/dist-packages (from datasets) (0.3.7)\n",
            "Requirement already satisfied: pandas in /usr/local/lib/python3.10/dist-packages (from datasets) (1.5.3)\n",
            "Requirement already satisfied: requests>=2.19.0 in /usr/local/lib/python3.10/dist-packages (from datasets) (2.31.0)\n",
            "Requirement already satisfied: tqdm>=4.62.1 in /usr/local/lib/python3.10/dist-packages (from datasets) (4.66.1)\n",
            "Requirement already satisfied: xxhash in /usr/local/lib/python3.10/dist-packages (from datasets) (3.4.1)\n",
            "Requirement already satisfied: multiprocess in /usr/local/lib/python3.10/dist-packages (from datasets) (0.70.15)\n",
            "Requirement already satisfied: fsspec[http]<=2023.10.0,>=2023.1.0 in /usr/local/lib/python3.10/dist-packages (from datasets) (2023.6.0)\n",
            "Requirement already satisfied: aiohttp in /usr/local/lib/python3.10/dist-packages (from datasets) (3.9.1)\n",
            "Requirement already satisfied: huggingface-hub>=0.18.0 in /usr/local/lib/python3.10/dist-packages (from datasets) (0.19.4)\n",
            "Requirement already satisfied: packaging in /usr/local/lib/python3.10/dist-packages (from datasets) (23.2)\n",
            "Requirement already satisfied: pyyaml>=5.1 in /usr/local/lib/python3.10/dist-packages (from datasets) (6.0.1)\n",
            "Requirement already satisfied: attrs>=17.3.0 in /usr/local/lib/python3.10/dist-packages (from aiohttp->datasets) (23.1.0)\n",
            "Requirement already satisfied: multidict<7.0,>=4.5 in /usr/local/lib/python3.10/dist-packages (from aiohttp->datasets) (6.0.4)\n",
            "Requirement already satisfied: yarl<2.0,>=1.0 in /usr/local/lib/python3.10/dist-packages (from aiohttp->datasets) (1.9.3)\n",
            "Requirement already satisfied: frozenlist>=1.1.1 in /usr/local/lib/python3.10/dist-packages (from aiohttp->datasets) (1.4.0)\n",
            "Requirement already satisfied: aiosignal>=1.1.2 in /usr/local/lib/python3.10/dist-packages (from aiohttp->datasets) (1.3.1)\n",
            "Requirement already satisfied: async-timeout<5.0,>=4.0 in /usr/local/lib/python3.10/dist-packages (from aiohttp->datasets) (4.0.3)\n",
            "Requirement already satisfied: filelock in /usr/local/lib/python3.10/dist-packages (from huggingface-hub>=0.18.0->datasets) (3.13.1)\n",
            "Requirement already satisfied: typing-extensions>=3.7.4.3 in /usr/local/lib/python3.10/dist-packages (from huggingface-hub>=0.18.0->datasets) (4.5.0)\n",
            "Requirement already satisfied: charset-normalizer<4,>=2 in /usr/local/lib/python3.10/dist-packages (from requests>=2.19.0->datasets) (3.3.2)\n",
            "Requirement already satisfied: idna<4,>=2.5 in /usr/local/lib/python3.10/dist-packages (from requests>=2.19.0->datasets) (3.6)\n",
            "Requirement already satisfied: urllib3<3,>=1.21.1 in /usr/local/lib/python3.10/dist-packages (from requests>=2.19.0->datasets) (2.0.7)\n",
            "Requirement already satisfied: certifi>=2017.4.17 in /usr/local/lib/python3.10/dist-packages (from requests>=2.19.0->datasets) (2023.11.17)\n",
            "Requirement already satisfied: python-dateutil>=2.8.1 in /usr/local/lib/python3.10/dist-packages (from pandas->datasets) (2.8.2)\n",
            "Requirement already satisfied: pytz>=2020.1 in /usr/local/lib/python3.10/dist-packages (from pandas->datasets) (2023.3.post1)\n",
            "Requirement already satisfied: six>=1.5 in /usr/local/lib/python3.10/dist-packages (from python-dateutil>=2.8.1->pandas->datasets) (1.16.0)\n"
          ]
        },
        {
          "output_type": "stream",
          "name": "stderr",
          "text": [
            "[nltk_data] Downloading package stopwords to /root/nltk_data...\n",
            "[nltk_data]   Package stopwords is already up-to-date!\n"
          ]
        },
        {
          "output_type": "stream",
          "name": "stdout",
          "text": [
            "Requirement already satisfied: transformers in /usr/local/lib/python3.10/dist-packages (4.35.2)\n",
            "Requirement already satisfied: filelock in /usr/local/lib/python3.10/dist-packages (from transformers) (3.13.1)\n",
            "Requirement already satisfied: huggingface-hub<1.0,>=0.16.4 in /usr/local/lib/python3.10/dist-packages (from transformers) (0.19.4)\n",
            "Requirement already satisfied: numpy>=1.17 in /usr/local/lib/python3.10/dist-packages (from transformers) (1.23.5)\n",
            "Requirement already satisfied: packaging>=20.0 in /usr/local/lib/python3.10/dist-packages (from transformers) (23.2)\n",
            "Requirement already satisfied: pyyaml>=5.1 in /usr/local/lib/python3.10/dist-packages (from transformers) (6.0.1)\n",
            "Requirement already satisfied: regex!=2019.12.17 in /usr/local/lib/python3.10/dist-packages (from transformers) (2023.6.3)\n",
            "Requirement already satisfied: requests in /usr/local/lib/python3.10/dist-packages (from transformers) (2.31.0)\n",
            "Requirement already satisfied: tokenizers<0.19,>=0.14 in /usr/local/lib/python3.10/dist-packages (from transformers) (0.15.0)\n",
            "Requirement already satisfied: safetensors>=0.3.1 in /usr/local/lib/python3.10/dist-packages (from transformers) (0.4.1)\n",
            "Requirement already satisfied: tqdm>=4.27 in /usr/local/lib/python3.10/dist-packages (from transformers) (4.66.1)\n",
            "Requirement already satisfied: fsspec>=2023.5.0 in /usr/local/lib/python3.10/dist-packages (from huggingface-hub<1.0,>=0.16.4->transformers) (2023.6.0)\n",
            "Requirement already satisfied: typing-extensions>=3.7.4.3 in /usr/local/lib/python3.10/dist-packages (from huggingface-hub<1.0,>=0.16.4->transformers) (4.5.0)\n",
            "Requirement already satisfied: charset-normalizer<4,>=2 in /usr/local/lib/python3.10/dist-packages (from requests->transformers) (3.3.2)\n",
            "Requirement already satisfied: idna<4,>=2.5 in /usr/local/lib/python3.10/dist-packages (from requests->transformers) (3.6)\n",
            "Requirement already satisfied: urllib3<3,>=1.21.1 in /usr/local/lib/python3.10/dist-packages (from requests->transformers) (2.0.7)\n",
            "Requirement already satisfied: certifi>=2017.4.17 in /usr/local/lib/python3.10/dist-packages (from requests->transformers) (2023.11.17)\n"
          ]
        }
      ],
      "source": [
        "!pip install wget\n",
        "import wget\n",
        "!pip install datasets\n",
        "from datasets import load_dataset\n",
        "import pandas as pd\n",
        "import pandas as pd\n",
        "import wget\n",
        "wget.download(\"https://raw.githubusercontent.com/yogawicaksana/helper_prabowo/main/helper_prabowo_ml.py\", out=\"helper_prabowo_ml.py\")\n",
        "from helper_prabowo_ml import clean_html, remove_links, remove_special_characters, removeStopWords, remove_, remove_digits, lower, email_address, non_ascii, punct\n",
        "from sklearn.model_selection import train_test_split\n",
        "!pip install transformers\n",
        "from transformers import BertTokenizer, TFBertModel\n",
        "import tensorflow as tf\n",
        "import numpy as np\n",
        "from keras.preprocessing.sequence import pad_sequences"
      ]
    },
    {
      "cell_type": "markdown",
      "source": [
        "### **Download Dataset**"
      ],
      "metadata": {
        "id": "QBc_WTAWBsxS"
      }
    },
    {
      "cell_type": "code",
      "source": [
        "!wget https://huggingface.co/datasets/InferencePrince555/Resume-Dataset/resolve/main/updated_data_final_cleaned.csv"
      ],
      "metadata": {
        "id": "a38RznAhDFim",
        "colab": {
          "base_uri": "https://localhost:8080/"
        },
        "outputId": "19b51584-c010-487e-a9cb-92288966561d"
      },
      "execution_count": 2,
      "outputs": [
        {
          "output_type": "stream",
          "name": "stdout",
          "text": [
            "--2023-12-07 07:00:18--  https://huggingface.co/datasets/InferencePrince555/Resume-Dataset/resolve/main/updated_data_final_cleaned.csv\n",
            "Resolving huggingface.co (huggingface.co)... 3.163.189.74, 3.163.189.37, 3.163.189.114, ...\n",
            "Connecting to huggingface.co (huggingface.co)|3.163.189.74|:443... connected.\n",
            "HTTP request sent, awaiting response... 302 Found\n",
            "Location: https://cdn-lfs.huggingface.co/repos/8a/ae/8aae04b8e17069856ddb28e3052e381c44ae2dc21356336bff549473bfda5ad1/c821343fe6a2a0e1bb70a08122615936c16af045981d632e6708a72977186c19?response-content-disposition=attachment%3B+filename*%3DUTF-8%27%27updated_data_final_cleaned.csv%3B+filename%3D%22updated_data_final_cleaned.csv%22%3B&response-content-type=text%2Fcsv&Expires=1702191618&Policy=eyJTdGF0ZW1lbnQiOlt7IkNvbmRpdGlvbiI6eyJEYXRlTGVzc1RoYW4iOnsiQVdTOkVwb2NoVGltZSI6MTcwMjE5MTYxOH19LCJSZXNvdXJjZSI6Imh0dHBzOi8vY2RuLWxmcy5odWdnaW5nZmFjZS5jby9yZXBvcy84YS9hZS84YWFlMDRiOGUxNzA2OTg1NmRkYjI4ZTMwNTJlMzgxYzQ0YWUyZGMyMTM1NjMzNmJmZjU0OTQ3M2JmZGE1YWQxL2M4MjEzNDNmZTZhMmEwZTFiYjcwYTA4MTIyNjE1OTM2YzE2YWYwNDU5ODFkNjMyZTY3MDhhNzI5NzcxODZjMTk%7EcmVzcG9uc2UtY29udGVudC1kaXNwb3NpdGlvbj0qJnJlc3BvbnNlLWNvbnRlbnQtdHlwZT0qIn1dfQ__&Signature=mjh9sV9ufdq-tlkXhENCSOcSPimhFzKSTZOOrNJBdoKJkeqcbwPKDiTWws9FDWZPx6pxREY9WL3ps89rQ5qeqBLwYdHXRj02W6EEJ0QK6LtmkBnVz3G6IwKIaaRlW-y4yHpsUQ3WpuBZENNX03lZAWJXPGx9r8kogpLsvg%7E3FwG8AIT2RWXk8dHhJRfPj-s15MRW0F4Ar-i5KNFrLK2yDYleqgRxWmZH%7EAma-JNROEnu40D6uvItWbkQXsqtgJnhzIuks4lXGNVoFOnWGBPKXU-sQKY9v%7EfFZI98rfa1CaX9qRKF0vOBRMR6ai76whAoalWRb8XNanXh-0lthTcJPw__&Key-Pair-Id=KVTP0A1DKRTAX [following]\n",
            "--2023-12-07 07:00:18--  https://cdn-lfs.huggingface.co/repos/8a/ae/8aae04b8e17069856ddb28e3052e381c44ae2dc21356336bff549473bfda5ad1/c821343fe6a2a0e1bb70a08122615936c16af045981d632e6708a72977186c19?response-content-disposition=attachment%3B+filename*%3DUTF-8%27%27updated_data_final_cleaned.csv%3B+filename%3D%22updated_data_final_cleaned.csv%22%3B&response-content-type=text%2Fcsv&Expires=1702191618&Policy=eyJTdGF0ZW1lbnQiOlt7IkNvbmRpdGlvbiI6eyJEYXRlTGVzc1RoYW4iOnsiQVdTOkVwb2NoVGltZSI6MTcwMjE5MTYxOH19LCJSZXNvdXJjZSI6Imh0dHBzOi8vY2RuLWxmcy5odWdnaW5nZmFjZS5jby9yZXBvcy84YS9hZS84YWFlMDRiOGUxNzA2OTg1NmRkYjI4ZTMwNTJlMzgxYzQ0YWUyZGMyMTM1NjMzNmJmZjU0OTQ3M2JmZGE1YWQxL2M4MjEzNDNmZTZhMmEwZTFiYjcwYTA4MTIyNjE1OTM2YzE2YWYwNDU5ODFkNjMyZTY3MDhhNzI5NzcxODZjMTk%7EcmVzcG9uc2UtY29udGVudC1kaXNwb3NpdGlvbj0qJnJlc3BvbnNlLWNvbnRlbnQtdHlwZT0qIn1dfQ__&Signature=mjh9sV9ufdq-tlkXhENCSOcSPimhFzKSTZOOrNJBdoKJkeqcbwPKDiTWws9FDWZPx6pxREY9WL3ps89rQ5qeqBLwYdHXRj02W6EEJ0QK6LtmkBnVz3G6IwKIaaRlW-y4yHpsUQ3WpuBZENNX03lZAWJXPGx9r8kogpLsvg%7E3FwG8AIT2RWXk8dHhJRfPj-s15MRW0F4Ar-i5KNFrLK2yDYleqgRxWmZH%7EAma-JNROEnu40D6uvItWbkQXsqtgJnhzIuks4lXGNVoFOnWGBPKXU-sQKY9v%7EfFZI98rfa1CaX9qRKF0vOBRMR6ai76whAoalWRb8XNanXh-0lthTcJPw__&Key-Pair-Id=KVTP0A1DKRTAX\n",
            "Resolving cdn-lfs.huggingface.co (cdn-lfs.huggingface.co)... 18.65.229.73, 18.65.229.83, 18.65.229.35, ...\n",
            "Connecting to cdn-lfs.huggingface.co (cdn-lfs.huggingface.co)|18.65.229.73|:443... connected.\n",
            "HTTP request sent, awaiting response... 200 OK\n",
            "Length: 206425438 (197M) [text/csv]\n",
            "Saving to: ‘updated_data_final_cleaned.csv.4’\n",
            "\n",
            "updated_data_final_ 100%[===================>] 196.86M   192MB/s    in 1.0s    \n",
            "\n",
            "2023-12-07 07:00:20 (192 MB/s) - ‘updated_data_final_cleaned.csv.4’ saved [206425438/206425438]\n",
            "\n"
          ]
        }
      ]
    },
    {
      "cell_type": "code",
      "source": [
        "file_path = '/content/updated_data_final_cleaned.csv'\n",
        "preview = pd.read_csv(file_path)\n",
        "print(preview.head())"
      ],
      "metadata": {
        "colab": {
          "base_uri": "https://localhost:8080/"
        },
        "id": "jIrB3bobkpH8",
        "outputId": "616cb6ba-96a9-41ad-c782-400424f50234"
      },
      "execution_count": 3,
      "outputs": [
        {
          "output_type": "stream",
          "name": "stdout",
          "text": [
            "                              instruction  input  \\\n",
            "0  Generate a Resume for a Accountant Job    NaN   \n",
            "1  Generate a Resume for a Accountant Job    NaN   \n",
            "2  Generate a Resume for a Accountant Job    NaN   \n",
            "3  Generate a Resume for a Accountant Job    NaN   \n",
            "4  Generate a Resume for a Accountant Job    NaN   \n",
            "\n",
            "                                         Resume_test  \n",
            "0  ACCOUNTANT Professional Summary Results orient...  \n",
            "1  STAFF ACCOUNTANT Summary Flexible Accountant w...  \n",
            "2  STAFF ACCOUNTANT Summary Highly analytical and...  \n",
            "3  SENIOR ACCOUNTANT Summary A highly competent m...  \n",
            "4  SENIOR ACCOUNTANT Summary 11 years experience ...  \n"
          ]
        }
      ]
    },
    {
      "cell_type": "markdown",
      "source": [
        "### **Load Dataset**"
      ],
      "metadata": {
        "id": "h8PxZtxZo5MZ"
      }
    },
    {
      "cell_type": "code",
      "source": [
        "# Load the CSV file into a Pandas DataFrame\n",
        "data = pd.read_csv(file_path)\n",
        "\n",
        "# Function to extract job positions from 'instruction' column\n",
        "def extract_job_position(instruction):\n",
        "    # Split the text between 'for a' and 'Job'\n",
        "    start = 'for a '\n",
        "    end = ' Job'\n",
        "    job_position = instruction.split(start)[1].split(end)[0]\n",
        "    return job_position.lower()  # Convert to lowercase\n",
        "\n",
        "# Apply function to extract job positions and update 'instruction' column\n",
        "data['instruction'] = data['instruction'].apply(extract_job_position)"
      ],
      "metadata": {
        "id": "IECyq1KEpXPh"
      },
      "execution_count": 4,
      "outputs": []
    },
    {
      "cell_type": "markdown",
      "source": [
        "### **Preview Raw Data**"
      ],
      "metadata": {
        "id": "T9_PKkVD1GlP"
      }
    },
    {
      "cell_type": "code",
      "source": [
        "# Display the updated DataFrame\n",
        "print(data.tail())"
      ],
      "metadata": {
        "colab": {
          "base_uri": "https://localhost:8080/"
        },
        "id": "JENmVzhn1L71",
        "outputId": "bad500cc-a1ad-4b1c-bb70-73658bbefc21"
      },
      "execution_count": 5,
      "outputs": [
        {
          "output_type": "stream",
          "name": "stdout",
          "text": [
            "         instruction  input                                        Resume_test\n",
            "32476  web developer    NaN  Software Engineer span lSoftwarespan Engineer ...\n",
            "32477  web developer    NaN  Sr Systems Manager Sr Business Manager Sr span...\n",
            "32478  web developer    NaN  Full Stack NET Developer Full Stack NET span l...\n",
            "32479  web developer    NaN  Director of Information Systems Director of In...\n",
            "32480  web developer    NaN  UX Engineer UX Engineer UX Engineer Redmond WA...\n"
          ]
        }
      ]
    },
    {
      "cell_type": "markdown",
      "source": [
        "### **Preprocess Data**"
      ],
      "metadata": {
        "id": "ChsUBZd_y-me"
      }
    },
    {
      "cell_type": "code",
      "source": [
        "# Function to preprocess text using helper_prabowo_ml functions\n",
        "def preprocess_text(text):\n",
        "    if isinstance(text, str):  # Check if the value is a string\n",
        "        # Apply text preprocessing functions\n",
        "        text = clean_html(text)\n",
        "        text = remove_links(text)\n",
        "        text = remove_special_characters(text)\n",
        "        text = removeStopWords(text)\n",
        "        text = remove_(text)\n",
        "        text = remove_digits(text)\n",
        "        text = lower(text)\n",
        "        text = email_address(text)\n",
        "        text = non_ascii(text)\n",
        "        text = punct(text)\n",
        "        return text\n",
        "    else:\n",
        "        return text\n",
        "\n",
        "# Apply function to preprocess 'Resume_test' column\n",
        "data['Resume_test'] = data['Resume_test'].apply(preprocess_text)"
      ],
      "metadata": {
        "id": "urzaHs0BzB5v"
      },
      "execution_count": 6,
      "outputs": []
    },
    {
      "cell_type": "markdown",
      "source": [
        "### **Preview Processed Data**"
      ],
      "metadata": {
        "id": "uHLU9Ot-0QgA"
      }
    },
    {
      "cell_type": "code",
      "source": [
        "# Display the updated DataFrame\n",
        "print(data.tail())"
      ],
      "metadata": {
        "colab": {
          "base_uri": "https://localhost:8080/"
        },
        "id": "3Kft_FoY0biN",
        "outputId": "10cdd4f9-49de-4ecd-c704-617d5c54c907"
      },
      "execution_count": 7,
      "outputs": [
        {
          "output_type": "stream",
          "name": "stdout",
          "text": [
            "         instruction  input                                        Resume_test\n",
            "32476  web developer    NaN  software engineer span lsoftwarespan engineer ...\n",
            "32477  web developer    NaN  sr systems manager sr business manager sr span...\n",
            "32478  web developer    NaN  full stack net developer full stack net span l...\n",
            "32479  web developer    NaN  director information systems director informat...\n",
            "32480  web developer    NaN  ux engineer ux engineer ux engineer redmond wa...\n"
          ]
        }
      ]
    },
    {
      "cell_type": "markdown",
      "source": [
        "### **Split Data**"
      ],
      "metadata": {
        "id": "305JsFr8v0wD"
      }
    },
    {
      "cell_type": "code",
      "source": [
        "# Splitting the data into training (80%) and temporary (20%) sets\n",
        "train_data, temp_data = train_test_split(data, test_size=0.2, random_state=42)\n",
        "\n",
        "# Further splitting the temporary set into validation (50%) and test (50%) sets\n",
        "val_data, test_data = train_test_split(temp_data, test_size=0.5, random_state=42)\n",
        "\n",
        "# Displaying the shapes of the resulting sets\n",
        "print(\"Train set shape:\", train_data.shape)\n",
        "print(\"Validation set shape:\", val_data.shape)\n",
        "print(\"Test set shape:\", test_data.shape)"
      ],
      "metadata": {
        "colab": {
          "base_uri": "https://localhost:8080/"
        },
        "id": "kXTUy8dtwLJo",
        "outputId": "8ca415bf-3884-44f7-c17e-1fcae494ec53"
      },
      "execution_count": 8,
      "outputs": [
        {
          "output_type": "stream",
          "name": "stdout",
          "text": [
            "Train set shape: (25984, 3)\n",
            "Validation set shape: (3248, 3)\n",
            "Test set shape: (3249, 3)\n"
          ]
        }
      ]
    },
    {
      "cell_type": "markdown",
      "source": [
        "### **Tokenize**"
      ],
      "metadata": {
        "id": "Z9_d5G42jjHw"
      }
    },
    {
      "cell_type": "code",
      "source": [
        "# Set the desired maximum length to 6400\n",
        "max_len = 6400\n",
        "\n",
        "# Load the BERT tokenizer\n",
        "tokenizer = BertTokenizer.from_pretrained('bert-base-uncased')\n",
        "\n",
        "# Tokenize the text data and pad sequences\n",
        "def tokenize_and_pad(text):\n",
        "    if isinstance(text, str):\n",
        "        encoded_dict = tokenizer.encode_plus(\n",
        "            text[:max_len],\n",
        "            max_length=max_len,\n",
        "            truncation=True,\n",
        "            padding='max_length',\n",
        "            return_tensors='tf'\n",
        "        )\n",
        "        return encoded_dict['input_ids'], encoded_dict['attention_mask']\n",
        "    else:\n",
        "        return tf.constant([], dtype=tf.int32), tf.constant([], dtype=tf.int32)\n",
        "\n",
        "# Filter data yang tidak kosong pada kolom 'Resume_test'\n",
        "train_data = train_data[train_data['Resume_test'].notnull()]\n",
        "val_data = val_data[val_data['Resume_test'].notnull()]\n",
        "test_data = test_data[test_data['Resume_test'].notnull()]\n",
        "\n",
        "# Apply tokenization and padding to the dataset\n",
        "train_data['input_ids'], train_data['attention_mask'] = zip(*train_data['Resume_test'].apply(tokenize_and_pad))\n",
        "val_data['input_ids'], val_data['attention_mask'] = zip(*val_data['Resume_test'].apply(tokenize_and_pad))\n",
        "test_data['input_ids'], test_data['attention_mask'] = zip(*test_data['Resume_test'].apply(tokenize_and_pad))"
      ],
      "metadata": {
        "id": "hv7xMFpBjr9X"
      },
      "execution_count": 9,
      "outputs": []
    },
    {
      "cell_type": "markdown",
      "source": [
        "### **Build Model**"
      ],
      "metadata": {
        "id": "l-chDksPxISl"
      }
    },
    {
      "cell_type": "code",
      "source": [
        "# Take the number of classes or labels from the 'instruction' column\n",
        "num_classes = len(train_data['instruction'].unique())\n",
        "\n",
        "# Define the BERT model architecture\n",
        "def build_model():\n",
        "    input_ids = tf.keras.layers.Input(shape=(max_len,), dtype=tf.int32, name=\"input_ids\")\n",
        "    attention_mask = tf.keras.layers.Input(shape=(max_len,), dtype=tf.int32, name=\"attention_mask\")\n",
        "    bert_model = TFBertModel.from_pretrained('bert-base-uncased')\n",
        "    bert_outputs = bert_model([input_ids, attention_mask])[1]  # Getting pooled outputs\n",
        "    dropout = tf.keras.layers.Dropout(0.1)(bert_outputs)\n",
        "    dense = tf.keras.layers.Dense(64, activation='relu')(dropout)\n",
        "    output = tf.keras.layers.Dense(num_classes, activation='softmax')(dense)\n",
        "    model = tf.keras.models.Model(inputs=[input_ids, attention_mask], outputs=output)\n",
        "    return model\n",
        "\n",
        "# Initialize and compile the model\n",
        "model = build_model()\n",
        "model.compile(optimizer='adam', loss='sparse_categorical_crossentropy', metrics=['accuracy'])"
      ],
      "metadata": {
        "id": "v1KAdKDexNz7",
        "colab": {
          "base_uri": "https://localhost:8080/"
        },
        "outputId": "44626567-f33f-4cc9-bccd-0118d3f59af3"
      },
      "execution_count": 10,
      "outputs": [
        {
          "output_type": "stream",
          "name": "stderr",
          "text": [
            "Some weights of the PyTorch model were not used when initializing the TF 2.0 model TFBertModel: ['cls.predictions.transform.dense.weight', 'cls.predictions.bias', 'cls.predictions.transform.LayerNorm.weight', 'cls.seq_relationship.weight', 'cls.predictions.transform.LayerNorm.bias', 'cls.seq_relationship.bias', 'cls.predictions.transform.dense.bias']\n",
            "- This IS expected if you are initializing TFBertModel from a PyTorch model trained on another task or with another architecture (e.g. initializing a TFBertForSequenceClassification model from a BertForPreTraining model).\n",
            "- This IS NOT expected if you are initializing TFBertModel from a PyTorch model that you expect to be exactly identical (e.g. initializing a TFBertForSequenceClassification model from a BertForSequenceClassification model).\n",
            "All the weights of TFBertModel were initialized from the PyTorch model.\n",
            "If your task is similar to the task the model of the checkpoint was trained on, you can already use TFBertModel for predictions without further training.\n"
          ]
        }
      ]
    },
    {
      "cell_type": "markdown",
      "source": [
        "### **Train Model**"
      ],
      "metadata": {
        "id": "yYQyfrot8PEh"
      }
    },
    {
      "cell_type": "code",
      "source": [
        "# Train the model\n",
        "model.fit(\n",
        "    [pad_sequences(np.vstack(train_data['input_ids']), maxlen=max_len, dtype='long', truncating='post', padding='post'),\n",
        "     pad_sequences(np.vstack(train_data['attention_mask']), maxlen=max_len, dtype='long', truncating='post', padding='post')],\n",
        "    train_data['instruction'],\n",
        "    validation_data=(\n",
        "        [pad_sequences(np.vstack(val_data['input_ids']), maxlen=max_len, dtype='long', truncating='post', padding='post'),\n",
        "         pad_sequences(np.vstack(val_data['attention_mask']), maxlen=max_len, dtype='long', truncating='post', padding='post')],\n",
        "        val_data['instruction']\n",
        "    ),\n",
        "    epochs=3,\n",
        "    batch_size=32\n",
        ")"
      ],
      "metadata": {
        "id": "3jaEv0_z8RTu"
      },
      "execution_count": null,
      "outputs": []
    }
  ]
}